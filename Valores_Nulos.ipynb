{
  "nbformat": 4,
  "nbformat_minor": 0,
  "metadata": {
    "colab": {
      "provenance": [],
      "authorship_tag": "ABX9TyONguCJQq1ouPbpzX27pjSq",
      "include_colab_link": true
    },
    "kernelspec": {
      "name": "python3",
      "display_name": "Python 3"
    },
    "language_info": {
      "name": "python"
    }
  },
  "cells": [
    {
      "cell_type": "markdown",
      "metadata": {
        "id": "view-in-github",
        "colab_type": "text"
      },
      "source": [
        "<a href=\"https://colab.research.google.com/github/Dumas07/Actividad-2-Valores-Nulos-/blob/main/Valores_Nulos.ipynb\" target=\"_parent\"><img src=\"https://colab.research.google.com/assets/colab-badge.svg\" alt=\"Open In Colab\"/></a>"
      ]
    },
    {
      "cell_type": "code",
      "execution_count": 1,
      "metadata": {
        "id": "YLE9HOJKIESc"
      },
      "outputs": [],
      "source": [
        "#Importamos las librerias pandas, numpy y matplotlib\n",
        "import pandas as pd\n",
        "import numpy as np\n",
        "import matplotlib.pyplot as plt"
      ]
    },
    {
      "cell_type": "code",
      "source": [
        "#Cargar archivo csv\n",
        "from google.colab import files\n",
        "files.upload()"
      ],
      "metadata": {
        "id": "nqQrYVoYIgRD"
      },
      "execution_count": null,
      "outputs": []
    },
    {
      "cell_type": "code",
      "source": [
        "#Carga desde un archivo .csv sin indice\n",
        "data = pd.read_csv('Ventas_totales.csv')\n",
        "data.head(5)\n",
        ""
      ],
      "metadata": {
        "id": "hYfZc8ZuJAVM"
      },
      "execution_count": null,
      "outputs": []
    },
    {
      "cell_type": "code",
      "source": [
        "#Eliminar la primera fila o filas innecesarias\n",
        "data1 =pd.read_csv(\"Ventas_totales.csv\", skiprows = 0)\n",
        "data1"
      ],
      "metadata": {
        "id": "lg2u_VVnMzdV"
      },
      "execution_count": null,
      "outputs": []
    },
    {
      "cell_type": "code",
      "source": [
        "#Eliminar la primera fila o filas innecesarias\n",
        "#data2 = data.drop([\"indice_tiempo\"], axis = 0)\n",
        "#data2"
      ],
      "metadata": {
        "id": "KIIgBP73OPrL"
      },
      "execution_count": 17,
      "outputs": []
    },
    {
      "cell_type": "code",
      "source": [
        "#Identificar valores nulos por columna (cantidad de valores nulos)\n",
        "valores_nulos = data.isnull().sum()\n",
        "valores_nulos"
      ],
      "metadata": {
        "id": "Ac34VLZiOSQ9"
      },
      "execution_count": null,
      "outputs": []
    },
    {
      "cell_type": "markdown",
      "source": [
        "**Aquí verificamos qué columnas de información tenían datos nulos y cuántos tenían**"
      ],
      "metadata": {
        "id": "_i0kiItLO25J"
      }
    },
    {
      "cell_type": "code",
      "source": [
        "#Copiamos los valores de la tabla inicial\n",
        "data1 = data.copy()\n",
        "data1"
      ],
      "metadata": {
        "id": "y568HCprPvFJ"
      },
      "execution_count": null,
      "outputs": []
    },
    {
      "cell_type": "code",
      "source": [
        "#Primer método de sustitución de valores nulos\n",
        "#Sustituir valores nulos con promedio o media\n",
        "data1[\"salon_ventas\"] = data1[\"salon_ventas\"].fillna(round(data[\"salon_ventas\"].mean(),1))\n",
        "data1"
      ],
      "metadata": {
        "id": "e4zu6Iu3Qbk0"
      },
      "execution_count": null,
      "outputs": []
    },
    {
      "cell_type": "code",
      "source": [
        "#Verificamos valores nulos\n",
        "valores_nulos = data1.isnull().sum()\n",
        "valores_nulos"
      ],
      "metadata": {
        "id": "yQktWqEIQlUZ"
      },
      "execution_count": null,
      "outputs": []
    },
    {
      "cell_type": "markdown",
      "source": [
        "**Para este método, reemplazamos los valores cero en la columna \"tarjeta_debito\" con la mediana de los datos en la misma columna** segundo metodo\n",
        "\n",
        "\n"
      ],
      "metadata": {
        "id": "oDTSHifAQ7Cd"
      }
    },
    {
      "cell_type": "code",
      "source": [
        "#Segundo método de sustitución de valores nulos\n",
        "#Sustituir valores nulos con mediana\n",
        "data1[\"tarjetas_debito\"] = data1[\"tarjetas_debito\"].fillna(round(data[\"tarjetas_debito\"].median(),1))"
      ],
      "metadata": {
        "id": "m80rL8fpV104"
      },
      "execution_count": 23,
      "outputs": []
    },
    {
      "cell_type": "code",
      "source": [
        "#verificamos valores nulos\n",
        "valores_nulos = data1.isnull().sum()\n",
        "valores_nulos"
      ],
      "metadata": {
        "id": "bTn6va_VWC1w"
      },
      "execution_count": null,
      "outputs": []
    },
    {
      "cell_type": "markdown",
      "source": [
        "**En este método sustituimos los valores nulos de la columna \"tarjetas_credito\" por un valor en específico** Tercer metodo"
      ],
      "metadata": {
        "id": "gI8bXAUKYQnA"
      }
    },
    {
      "cell_type": "code",
      "source": [
        "#Tercer método de sustitución de valores nulos\n",
        "#Sustituir valores nulos por un valor numérico en concreto\n",
        "data1[\"tarjetas_credito\"] = data1[\"tarjetas_credito\"].fillna(7834722.1)"
      ],
      "metadata": {
        "id": "kwi_0styYYo7"
      },
      "execution_count": 27,
      "outputs": []
    },
    {
      "cell_type": "code",
      "source": [
        "#Verificamos valores nulos\n",
        "valores_nulos = data1.isnull().sum()\n",
        "valores_nulos"
      ],
      "metadata": {
        "id": "hPN6Jm26Zu9y"
      },
      "execution_count": null,
      "outputs": []
    },
    {
      "cell_type": "code",
      "source": [
        "#Sustituir los valores nulos por valores no nulos hacia adelante \"forward fill\" (\"ffill\")\n",
        "#Filtro por columnas\n",
        "data1[\"otros_medios\"] = data1[\"otros_medios\"].fillna(method=\"ffill\")"
      ],
      "metadata": {
        "id": "ewGkskfkZ0H-"
      },
      "execution_count": 29,
      "outputs": []
    },
    {
      "cell_type": "code",
      "source": [
        "#Verificamos valores nulos\n",
        "valores_nulos = data1.isnull().sum()\n",
        "valores_nulos"
      ],
      "metadata": {
        "id": "cTLUsulLZ2Y2"
      },
      "execution_count": null,
      "outputs": []
    },
    {
      "cell_type": "code",
      "source": [
        "#Sustituir valores nulos por valores no nulos hacia atrás backwardfill (\"bfill\")\n",
        "#Filtro por columnas\n",
        "data1[\"subtotal_ventas_alimentos_bebidas\"]=data1[\"subtotal_ventas_alimentos_bebidas\"].fillna(method=\"bfill\")"
      ],
      "metadata": {
        "id": "p0yPtQpPZ8o4"
      },
      "execution_count": 31,
      "outputs": []
    },
    {
      "cell_type": "code",
      "source": [
        "#Verificamos los valores nulos\n",
        "valores_nulos = data1.isnull().sum()\n",
        "valores_nulos"
      ],
      "metadata": {
        "id": "0UNP7QItZ_ex"
      },
      "execution_count": null,
      "outputs": []
    },
    {
      "cell_type": "markdown",
      "source": [
        "**Repetimos las técnicas de sustitución de valores para llenar los huecos con valores nulos**\n",
        "\n"
      ],
      "metadata": {
        "id": "0eFHnomYa9Ma"
      }
    },
    {
      "cell_type": "code",
      "source": [
        "#Sustituir valores nulos por valores no nulos hacia atrás backwardfill\n",
        "#Sexto método de sustitución\n",
        "data1[\"bebidas\"] = data1[\"bebidas\"].fillna(method=\"bfill\")"
      ],
      "metadata": {
        "id": "663b0EcRa_TG"
      },
      "execution_count": 33,
      "outputs": []
    },
    {
      "cell_type": "code",
      "source": [
        "#Sustituir valores nulos por valores no nulos hacia atrás backwardfill\n",
        "#Sexto método de sustitución\n",
        "data1[\"almacen\"] = data1[\"almacen\"].fillna(method=\"bfill\")"
      ],
      "metadata": {
        "id": "6GCDJBt0bDY4"
      },
      "execution_count": 34,
      "outputs": []
    },
    {
      "cell_type": "code",
      "source": [
        "#Sustituir valores nulos por valores no nulos hacia atrás backwardfill\n",
        "#Sexto método de sustitución\n",
        "data1[\"panaderia\"] = data1[\"panaderia\"].fillna(method=\"bfill\")"
      ],
      "metadata": {
        "id": "GRKoaj3dbFfC"
      },
      "execution_count": 35,
      "outputs": []
    },
    {
      "cell_type": "code",
      "source": [
        "#Sustituir valores nulos por valores no nulos hacia adelante (\"ffill\")\n",
        "#Quinto método de sustitución\n",
        "data1[\"lacteos\"]=data1[\"lacteos\"].fillna(method=\"ffill\")"
      ],
      "metadata": {
        "id": "TOfwMbHobGgS"
      },
      "execution_count": 36,
      "outputs": []
    },
    {
      "cell_type": "code",
      "source": [
        "#Sustituir valores nulos con mediana\n",
        "#Segundo método de sustitución de valores nulos\n",
        "data1[\"carnes\"] = data1[\"carnes\"].fillna(round(data[\"carnes\"].median(),1))"
      ],
      "metadata": {
        "id": "DMN8GRp7bKgo"
      },
      "execution_count": 37,
      "outputs": []
    },
    {
      "cell_type": "code",
      "source": [
        "#Sustituir valores nulos con promedio o media\n",
        "#Primer método de sustitución de valores nulos\n",
        "data1[\"verduleria_fruteria\"] = data1[\"verduleria_fruteria\"].fillna(round(data[\"verduleria_fruteria\"].mean(),1))"
      ],
      "metadata": {
        "id": "CfVwQEwMbNEC"
      },
      "execution_count": 38,
      "outputs": []
    },
    {
      "cell_type": "code",
      "source": [
        "#Sustituir valores nulos con promedio o media\n",
        "#Primer método de sustitución de valores nulos\n",
        "data1[\"alimentos_preparados_rotiseria\"] = data1[\"alimentos_preparados_rotiseria\"].fillna(round(data[\"alimentos_preparados_rotiseria\"].mean(),1))"
      ],
      "metadata": {
        "id": "dsvFixhJbQfN"
      },
      "execution_count": 39,
      "outputs": []
    },
    {
      "cell_type": "code",
      "source": [
        "#Sustituir valores nulos por valores no nulos hacia adelante (\"ffill\")\n",
        "#Quinto método de sustitución\n",
        "data1[\"indumentaria_calzado_textiles_hogar\"]=data1[\"indumentaria_calzado_textiles_hogar\"].fillna(method=\"ffill\")"
      ],
      "metadata": {
        "id": "3V0nBZF3bTn8"
      },
      "execution_count": 40,
      "outputs": []
    },
    {
      "cell_type": "code",
      "source": [
        "#Sustituir valores nulos por valores no nulos hacia adelante (\"ffill\")\n",
        "#Quinto método de sustitución\n",
        "data1[\"electronicos_articulos_hogar\"]=data1[\"electronicos_articulos_hogar\"].fillna(method=\"ffill\")"
      ],
      "metadata": {
        "id": "AcHia-hmbVtw"
      },
      "execution_count": 41,
      "outputs": []
    },
    {
      "cell_type": "code",
      "source": [
        "#Sustituir valores nulos por valores no nulos hacia adelante (\"ffill\")\n",
        "#Quinto método de sustitución\n",
        "data1[\"otros\"]=data1[\"otros\"].fillna(method=\"ffill\")"
      ],
      "metadata": {
        "id": "lciGb-AvbXju"
      },
      "execution_count": 42,
      "outputs": []
    },
    {
      "cell_type": "code",
      "source": [
        "#Verificamos los valores nulos\n",
        "valores_nulos = data1.isnull().sum()\n",
        "valores_nulos"
      ],
      "metadata": {
        "id": "_Puprrn6banD"
      },
      "execution_count": null,
      "outputs": []
    }
  ]
}